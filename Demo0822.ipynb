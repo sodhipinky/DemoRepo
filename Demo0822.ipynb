{
 "cells": [
  {
   "cell_type": "code",
   "execution_count": 1,
   "id": "5ae414ba",
   "metadata": {},
   "outputs": [
    {
     "name": "stdout",
     "output_type": "stream",
     "text": [
      "hello world\n"
     ]
    }
   ],
   "source": [
    "print('hello world')\n",
    "#print is a function in python\n",
    "#parentheses are round brackets\n",
    "# '' \"\""
   ]
  },
  {
   "cell_type": "code",
   "execution_count": 4,
   "id": "4135b176",
   "metadata": {},
   "outputs": [
    {
     "name": "stdout",
     "output_type": "stream",
     "text": [
      "10\n",
      "20\n",
      "Pinky\n"
     ]
    }
   ],
   "source": [
    "# is a comment in python\n",
    "# the following code will print the value of a variable in python\n",
    "# x= 10 y=20 c= a+b\n",
    "# x = \"pinky\"\n",
    "\n",
    "x = 10\n",
    "y = 20\n",
    "myName= \"Pinky\"\n",
    "\n",
    "print(x)\n",
    "print(y)\n",
    "print(myName)"
   ]
  },
  {
   "cell_type": "code",
   "execution_count": 3,
   "id": "af5199b0",
   "metadata": {},
   "outputs": [
    {
     "name": "stdout",
     "output_type": "stream",
     "text": [
      "Pinky Sodhi\n"
     ]
    }
   ],
   "source": [
    "firstName = 'Pinky'\n",
    "lastName = 'Sodhi'\n",
    "\n",
    "print(firstName,lastName)"
   ]
  },
  {
   "cell_type": "code",
   "execution_count": 2,
   "id": "7a707b34",
   "metadata": {},
   "outputs": [
    {
     "name": "stdout",
     "output_type": "stream",
     "text": [
      "PinkySodhi\n"
     ]
    }
   ],
   "source": [
    "print(firstName + lastName)"
   ]
  },
  {
   "cell_type": "code",
   "execution_count": 4,
   "id": "9117f526",
   "metadata": {},
   "outputs": [
    {
     "name": "stdout",
     "output_type": "stream",
     "text": [
      "110\n"
     ]
    }
   ],
   "source": [
    "a= 50\n",
    "b= 60\n",
    "\n",
    "#The sum of a and b is 110\n",
    "\n",
    "print(a+b)"
   ]
  },
  {
   "cell_type": "code",
   "execution_count": 5,
   "id": "76531b62",
   "metadata": {},
   "outputs": [
    {
     "name": "stdout",
     "output_type": "stream",
     "text": [
      "The sum of a and b is 110\n"
     ]
    }
   ],
   "source": [
    "print('The sum of a and b is', a+b)"
   ]
  }
 ],
 "metadata": {
  "kernelspec": {
   "display_name": "Python 3 (ipykernel)",
   "language": "python",
   "name": "python3"
  },
  "language_info": {
   "codemirror_mode": {
    "name": "ipython",
    "version": 3
   },
   "file_extension": ".py",
   "mimetype": "text/x-python",
   "name": "python",
   "nbconvert_exporter": "python",
   "pygments_lexer": "ipython3",
   "version": "3.9.12"
  }
 },
 "nbformat": 4,
 "nbformat_minor": 5
}
